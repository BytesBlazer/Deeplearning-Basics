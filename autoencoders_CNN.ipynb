{
  "nbformat": 4,
  "nbformat_minor": 0,
  "metadata": {
    "colab": {
      "provenance": []
    },
    "kernelspec": {
      "name": "python3",
      "display_name": "Python 3"
    },
    "language_info": {
      "name": "python"
    }
  },
  "cells": [
    {
      "cell_type": "code",
      "execution_count": null,
      "metadata": {
        "id": "H6SnBJWqUwoI"
      },
      "outputs": [],
      "source": [
        "import numpy as np\n",
        "import matplotlib.pyplot as plt\n",
        "from keras import layers, models\n",
        "from keras.datasets import mnist\n",
        "\n",
        "%matplotlib inline"
      ]
    },
    {
      "cell_type": "code",
      "source": [
        "(x_train, _), (x_test, _) = mnist.load_data()"
      ],
      "metadata": {
        "id": "mYzl5CufWNkU"
      },
      "execution_count": null,
      "outputs": []
    },
    {
      "cell_type": "code",
      "source": [
        "x_train = x_train.astype(\"float32\") / 255\n",
        "x_test = x_test.astype(\"float32\") / 255"
      ],
      "metadata": {
        "id": "GYTrKqVNWkIz"
      },
      "execution_count": null,
      "outputs": []
    },
    {
      "cell_type": "code",
      "source": [
        "def plot_img(x):\n",
        "    fig = plt.figure(figsize=(18, 18))\n",
        "\n",
        "    for i in range(x.shape[0]):\n",
        "      ax = fig.add_subplot(10, 10, i+1, xticks=[], yticks=[])\n",
        "      ax.imshow(x[i], cmap=\"gray\")"
      ],
      "metadata": {
        "id": "-G9HBek9W8Y-"
      },
      "execution_count": null,
      "outputs": []
    },
    {
      "cell_type": "markdown",
      "source": [
        "## Encoder"
      ],
      "metadata": {
        "id": "89FwKatscDcW"
      }
    },
    {
      "cell_type": "code",
      "source": [
        "\n",
        "input_layer = layers.Input((28, 28, 1))\n",
        "\n",
        "layer_1 = layers.Conv2D(16, kernel_size=(2, 2), padding='same', activation=\"relu\")(input_layer)\n",
        "layer_1 = layers.MaxPool2D(pool_size=2)(layer_1)\n",
        "layer_1 = layers.Conv2D(32, kernel_size=(2, 2), padding='same', activation=\"relu\")(layer_1)\n",
        "encoded = layers.MaxPool2D(pool_size=2)(layer_1)\n",
        "\n",
        "layer_1 = layers.Conv2D(16, kernel_size=(2, 2), padding='same', activation=\"relu\")(encoded)\n",
        "layer_1 = layers.UpSampling2D(size=2)(layer_1)\n",
        "layer_1 = layers.Conv2D(32, kernel_size=(2, 2), padding='same', activation=\"relu\")(layer_1)\n",
        "layer_1 = layers.UpSampling2D(size=2)(layer_1)\n",
        "decoded = layers.Conv2D(1, kernel_size=(2, 2), padding='same', activation=\"sigmoid\")(layer_1)\n"
      ],
      "metadata": {
        "id": "oFemepwhcDRb"
      },
      "execution_count": null,
      "outputs": []
    },
    {
      "cell_type": "code",
      "source": [
        "encoder = models.Model(input_layer, encoded)\n",
        "decoder = models.Model(encoded, decoded)"
      ],
      "metadata": {
        "id": "KEVSu9CralEq"
      },
      "execution_count": null,
      "outputs": []
    },
    {
      "cell_type": "code",
      "source": [
        "autoencoder = models.Model(input_layer, decoded)\n",
        "autoencoder.compile(optimizer=\"sgd\", loss=\"binary_crossentropy\")"
      ],
      "metadata": {
        "id": "i-UW7Xz9aqFW"
      },
      "execution_count": null,
      "outputs": []
    },
    {
      "cell_type": "code",
      "source": [
        "autoencoder.fit(x_train, x_train, epochs=10)"
      ],
      "metadata": {
        "colab": {
          "base_uri": "https://localhost:8080/"
        },
        "id": "Y7IgXv4lemcP",
        "outputId": "df195fb9-8dee-4d26-9cfc-dc8beea29d65"
      },
      "execution_count": null,
      "outputs": [
        {
          "output_type": "stream",
          "name": "stdout",
          "text": [
            "Epoch 1/10\n",
            "1875/1875 [==============================] - 55s 29ms/step - loss: 0.2967\n",
            "Epoch 2/10\n",
            "1875/1875 [==============================] - 55s 29ms/step - loss: 0.1744\n",
            "Epoch 3/10\n",
            "1875/1875 [==============================] - 57s 30ms/step - loss: 0.1619\n",
            "Epoch 4/10\n",
            "1875/1875 [==============================] - 59s 31ms/step - loss: 0.1538\n",
            "Epoch 5/10\n",
            "1875/1875 [==============================] - 58s 31ms/step - loss: 0.1469\n",
            "Epoch 6/10\n",
            "1875/1875 [==============================] - 55s 29ms/step - loss: 0.1416\n",
            "Epoch 7/10\n",
            "1875/1875 [==============================] - 55s 30ms/step - loss: 0.1371\n",
            "Epoch 8/10\n",
            "1875/1875 [==============================] - 56s 30ms/step - loss: 0.1330\n",
            "Epoch 9/10\n",
            "1875/1875 [==============================] - 54s 29ms/step - loss: 0.1293\n",
            "Epoch 10/10\n",
            "1875/1875 [==============================] - 53s 28ms/step - loss: 0.1261\n"
          ]
        },
        {
          "output_type": "execute_result",
          "data": {
            "text/plain": [
              "<keras.callbacks.History at 0x7faf055c4040>"
            ]
          },
          "metadata": {},
          "execution_count": 135
        }
      ]
    },
    {
      "cell_type": "code",
      "source": [
        "x_pred = encoder.predict(x_test).squeeze()"
      ],
      "metadata": {
        "colab": {
          "base_uri": "https://localhost:8080/"
        },
        "id": "acTQCmK1hlTV",
        "outputId": "0d94e05d-c8a0-43b3-ca88-fa9ef625819f"
      },
      "execution_count": null,
      "outputs": [
        {
          "output_type": "stream",
          "name": "stdout",
          "text": [
            "313/313 [==============================] - 1s 4ms/step\n"
          ]
        }
      ]
    },
    {
      "cell_type": "code",
      "source": [
        "img = np.zeros((7, 7))\n",
        "\n",
        "for i in range(32):\n",
        "  img += x_pred[3][:, :, i]"
      ],
      "metadata": {
        "id": "G60dQkH5lD5F"
      },
      "execution_count": null,
      "outputs": []
    },
    {
      "cell_type": "code",
      "source": [
        "plt.imshow(img, cmap=\"gray\")"
      ],
      "metadata": {
        "colab": {
          "base_uri": "https://localhost:8080/",
          "height": 282
        },
        "id": "ZegeLDK-lITc",
        "outputId": "e19b8813-cf9c-4eb6-cd30-1ea2d8fd7ba0"
      },
      "execution_count": null,
      "outputs": [
        {
          "output_type": "execute_result",
          "data": {
            "text/plain": [
              "<matplotlib.image.AxesImage at 0x7faf1004f100>"
            ]
          },
          "metadata": {},
          "execution_count": 140
        },
        {
          "output_type": "display_data",
          "data": {
            "text/plain": [
              "<Figure size 432x288 with 1 Axes>"
            ],
            "image/png": "[encoded data removed]"
          },
          "metadata": {
            "needs_background": "light"
          }
        }
      ]
    },
    {
      "cell_type": "code",
      "source": [
        "plt.imshow(x_test[3], cmap=\"gray\")"
      ],
      "metadata": {
        "colab": {
          "base_uri": "https://localhost:8080/",
          "height": 282
        },
        "id": "XtnZ-PQxCjhw",
        "outputId": "fe7ab291-8b61-4557-a407-2948be82ef9e"
      },
      "execution_count": null,
      "outputs": [
        {
          "output_type": "execute_result",
          "data": {
            "text/plain": [
              "<matplotlib.image.AxesImage at 0x7faf07579af0>"
            ]
          },
          "metadata": {},
          "execution_count": 142
        },
        {
          "output_type": "display_data",
          "data": {
            "text/plain": [
              "<Figure size 432x288 with 1 Axes>"
            ],
            "image/png": "[encoded data removed]"
          },
          "metadata": {
            "needs_background": "light"
          }
        }
      ]
    },
    {
      "cell_type": "code",
      "source": [],
      "metadata": {
        "id": "ttz3oE1WHD8F"
      },
      "execution_count": null,
      "outputs": []
    },
    {
      "cell_type": "code",
      "source": [],
      "metadata": {
        "id": "gf3x-ykDRtHe"
      },
      "execution_count": null,
      "outputs": []
    }
  ]
}